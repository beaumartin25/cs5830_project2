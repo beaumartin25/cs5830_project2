{
 "cells": [
  {
   "cell_type": "markdown",
   "metadata": {},
   "source": [
    "# Project 2 Crime Housing\n"
   ]
  },
  {
   "cell_type": "markdown",
   "metadata": {},
   "source": [
    "### Import crime housing data"
   ]
  },
  {
   "cell_type": "code",
   "execution_count": null,
   "metadata": {},
   "outputs": [],
   "source": [
    "import pandas as pd\n",
    "import numpy as np\n",
    "from matplotlib import pyplot as plt\n",
    "import seaborn as sns\n",
    "from scipy import stats\n",
    "\n",
    "crime_housing_df = pd.read_csv('crime-housing-austin-2015.csv')\n",
    "crime_housing_df"
   ]
  },
  {
   "cell_type": "code",
   "execution_count": null,
   "metadata": {},
   "outputs": [],
   "source": [
    "crime_counts = crime_housing_df.groupby(['Highest_NIBRS_UCR_Offense_Description', 'Zip_Code_Crime']).size().reset_index(name='Crime_Count')\n",
    "\n",
    "crime_counts"
   ]
  },
  {
   "cell_type": "code",
   "execution_count": null,
   "metadata": {},
   "outputs": [],
   "source": [
    "\n",
    "crime_counts_with_salary = crime_counts.merge(\n",
    "    crime_housing_df[['Zip_Code_Crime', 'Medianhouseholdincome']].drop_duplicates('Zip_Code_Crime'),\n",
    "    on='Zip_Code_Crime'\n",
    ").dropna()\n",
    "\n",
    "# make medianhouseholdincome a float\n",
    "crime_counts_with_salary['Medianhouseholdincome'] = crime_counts_with_salary['Medianhouseholdincome'].replace({'\\$': '', ',': ''}, regex=True).astype(float)\n",
    "\n",
    "crime_list = ['Auto Theft', 'Burglary'] # list of crimes we want to use\n",
    "crime_counts_with_salary  = crime_counts_with_salary[\n",
    "    crime_counts_with_salary.Highest_NIBRS_UCR_Offense_Description.isin(crime_list)\n",
    "]\n",
    "crime_counts_with_salary\n",
    "\n"
   ]
  },
  {
   "cell_type": "markdown",
   "metadata": {},
   "source": [
    "### Plot both auto theft and burglary"
   ]
  },
  {
   "cell_type": "code",
   "execution_count": null,
   "metadata": {},
   "outputs": [],
   "source": [
    "colors = {'Theft':'blue','Auto Theft':'red','Burglary':'black'}\n",
    "\n",
    "fig, ax = plt.subplots(figsize=(5,5))\n",
    "\n",
    "\n",
    "\n",
    "for crime in crime_counts_with_salary.Highest_NIBRS_UCR_Offense_Description.unique():\n",
    "    data = crime_counts_with_salary[crime_counts_with_salary.Highest_NIBRS_UCR_Offense_Description == crime]\n",
    "    ax.scatter(x=data.Medianhouseholdincome, y=data.Crime_Count, c=colors[crime], label=crime)\n",
    "ax.set_xlabel('median_income')  \n",
    "ax.set_ylabel('crime_counts')    \n",
    "ax.legend()\n",
    "\n",
    "plt.show()"
   ]
  },
  {
   "cell_type": "markdown",
   "metadata": {},
   "source": [
    "### Auto theft plot and correlation coefficient"
   ]
  },
  {
   "cell_type": "code",
   "execution_count": null,
   "metadata": {},
   "outputs": [],
   "source": [
    "auto_theft = crime_counts_with_salary[crime_counts_with_salary.Highest_NIBRS_UCR_Offense_Description == 'Auto Theft']\n",
    "sns.regplot(x='Medianhouseholdincome', y='Crime_Count', data=auto_theft, ci=None)\n",
    "display(stats.pearsonr(auto_theft.Crime_Count, auto_theft.Medianhouseholdincome))\n",
    "display(np.std(auto_theft.Crime_Count))"
   ]
  },
  {
   "cell_type": "markdown",
   "metadata": {},
   "source": [
    "### Burglary plot and correlation coefficient"
   ]
  },
  {
   "cell_type": "code",
   "execution_count": null,
   "metadata": {},
   "outputs": [],
   "source": [
    "burglary = crime_counts_with_salary[crime_counts_with_salary.Highest_NIBRS_UCR_Offense_Description == 'Burglary']\n",
    "sns.regplot(x='Medianhouseholdincome', y='Crime_Count', data=burglary, ci=None)\n",
    "display(stats.pearsonr(burglary.Crime_Count, burglary.Medianhouseholdincome))\n",
    "display(np.std(burglary.Crime_Count))"
   ]
  },
  {
   "cell_type": "markdown",
   "metadata": {},
   "source": [
    "### Average number of auto thefts and burglaries per area"
   ]
  },
  {
   "cell_type": "code",
   "execution_count": null,
   "metadata": {},
   "outputs": [],
   "source": [
    "plt.figure()\n",
    "plt.bar([1,2],[auto_theft.Crime_Count.mean(), burglary.Crime_Count.mean()], tick_label=['auto_theft', 'burglary'])\n",
    "plt.title('Average number of crime type per area')\n",
    "\n",
    "display('N = {} (auto_theft) {} (burglary)'.format(sum(auto_theft.Crime_Count), sum(burglary.Crime_Count)))"
   ]
  },
  {
   "cell_type": "markdown",
   "metadata": {},
   "source": [
    "### T-test of auto theft and burglary"
   ]
  },
  {
   "cell_type": "code",
   "execution_count": null,
   "metadata": {},
   "outputs": [],
   "source": [
    "display(stats.ttest_ind(auto_theft.Crime_Count, burglary.Crime_Count))"
   ]
  }
 ],
 "metadata": {
  "kernelspec": {
   "display_name": "base",
   "language": "python",
   "name": "python3"
  },
  "language_info": {
   "codemirror_mode": {
    "name": "ipython",
    "version": 3
   },
   "file_extension": ".py",
   "mimetype": "text/x-python",
   "name": "python",
   "nbconvert_exporter": "python",
   "pygments_lexer": "ipython3",
   "version": "3.11.5"
  }
 },
 "nbformat": 4,
 "nbformat_minor": 2
}
