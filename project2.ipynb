{
 "cells": [
  {
   "cell_type": "markdown",
   "metadata": {},
   "source": [
    "# Project 2 Crime Housing\n",
    "### team members: Bekah Grant, Beau Martin\n",
    "### Dataset: Crime-housing-austin, AustinZipCodes"
   ]
  },
  {
   "cell_type": "markdown",
   "metadata": {},
   "source": [
    "### Import crime housing data"
   ]
  },
  {
   "cell_type": "code",
   "execution_count": null,
   "metadata": {},
   "outputs": [],
   "source": [
    "import pandas as pd\n",
    "import numpy as np\n",
    "from matplotlib import pyplot as plt\n",
    "import seaborn as sns\n",
    "from scipy import stats\n",
    "\n",
    "crime_housing_df = pd.read_csv('crime-housing-austin-2015.csv')\n",
    "crime_housing_df"
   ]
  },
  {
   "cell_type": "code",
   "execution_count": null,
   "metadata": {},
   "outputs": [],
   "source": [
    "crime_counts = crime_housing_df.groupby(['Highest_NIBRS_UCR_Offense_Description', 'Zip_Code_Crime', 'Populationwithdisability']).size().reset_index(name='Crime_Count')\n",
    "\n",
    "crime_counts"
   ]
  },
  {
   "cell_type": "code",
   "execution_count": null,
   "metadata": {},
   "outputs": [],
   "source": [
    "\n",
    "crime_counts_with_salary = crime_counts.merge(\n",
    "    crime_housing_df[['Zip_Code_Crime', 'Medianhouseholdincome']].drop_duplicates('Zip_Code_Crime'),\n",
    "    on='Zip_Code_Crime'\n",
    ").dropna()\n",
    "\n",
    "# make medianhouseholdincome a float\n",
    "crime_counts_with_salary['Medianhouseholdincome'] = crime_counts_with_salary['Medianhouseholdincome'].replace({'\\$': '', ',': ''}, regex=True).astype(float)\n",
    "\n",
    "crime_list = ['Auto Theft', 'Burglary'] # list of crimes we want to use\n",
    "crime_counts_with_salary  = crime_counts_with_salary[\n",
    "    crime_counts_with_salary.Highest_NIBRS_UCR_Offense_Description.isin(crime_list)\n",
    "]\n",
    "crime_counts_with_salary\n",
    "\n"
   ]
  },
  {
   "cell_type": "markdown",
   "metadata": {},
   "source": [
    "### Plot both auto theft and burglary"
   ]
  },
  {
   "cell_type": "code",
   "execution_count": null,
   "metadata": {},
   "outputs": [],
   "source": [
    "colors = {'Theft':'blue','Auto Theft':'red','Burglary':'black'}\n",
    "\n",
    "fig, ax = plt.subplots(figsize=(5,5))\n",
    "\n",
    "\n",
    "\n",
    "for crime in crime_counts_with_salary.Highest_NIBRS_UCR_Offense_Description.unique():\n",
    "    data = crime_counts_with_salary[crime_counts_with_salary.Highest_NIBRS_UCR_Offense_Description == crime]\n",
    "    ax.scatter(x=data.Medianhouseholdincome, y=data.Crime_Count, c=colors[crime], label=crime)\n",
    "ax.set_xlabel('median_income')  \n",
    "ax.set_ylabel('crime_counts')    \n",
    "ax.legend()\n",
    "\n",
    "plt.show()"
   ]
  },
  {
   "cell_type": "markdown",
   "metadata": {},
   "source": [
    "### Auto theft plot and correlation coefficient"
   ]
  },
  {
   "cell_type": "code",
   "execution_count": null,
   "metadata": {},
   "outputs": [],
   "source": [
    "auto_theft = crime_counts_with_salary[crime_counts_with_salary.Highest_NIBRS_UCR_Offense_Description == 'Auto Theft']\n",
    "sns.regplot(x='Medianhouseholdincome', y='Crime_Count', data=auto_theft, ci=None)\n",
    "display(stats.pearsonr(auto_theft.Crime_Count, auto_theft.Medianhouseholdincome))"
   ]
  },
  {
   "cell_type": "markdown",
   "metadata": {},
   "source": [
    "### Burglary plot and correlation coefficient"
   ]
  },
  {
   "cell_type": "code",
   "execution_count": null,
   "metadata": {},
   "outputs": [],
   "source": [
    "burglary = crime_counts_with_salary[crime_counts_with_salary.Highest_NIBRS_UCR_Offense_Description == 'Burglary']\n",
    "sns.regplot(x='Medianhouseholdincome', y='Crime_Count', data=burglary, ci=None)\n",
    "display(stats.pearsonr(burglary.Crime_Count, burglary.Medianhouseholdincome))"
   ]
  },
  {
   "cell_type": "code",
   "execution_count": null,
   "metadata": {},
   "outputs": [],
   "source": []
  },
  {
   "cell_type": "markdown",
   "metadata": {},
   "source": [
    "### Average number of auto thefts and burglaries per area"
   ]
  },
  {
   "cell_type": "code",
   "execution_count": null,
   "metadata": {},
   "outputs": [],
   "source": [
    "plt.figure()\n",
    "plt.bar([1,2],[auto_theft.Crime_Count.mean(), burglary.Crime_Count.mean()], tick_label=['auto_theft', 'burglary'])\n",
    "plt.title('Average number of crime type per area')\n",
    "\n",
    "display('N = {} (auto_theft) {} (burglary)'.format(sum(auto_theft.Crime_Count), sum(burglary.Crime_Count)))"
   ]
  },
  {
   "cell_type": "markdown",
   "metadata": {},
   "source": [
    "# Does crime occur more in communities with higher disability? do people take advatage of the disabled\n"
   ]
  },
  {
   "cell_type": "code",
   "execution_count": null,
   "metadata": {},
   "outputs": [],
   "source": [
    "\n",
    "#determines how many crimes have been commited in a zip code.\n",
    "crime_zip = crime_housing_df.groupby('Zip_Code_Crime').size().reset_index(name='Zip_crime_count')\n",
    "crime_zip\n",
    "\n",
    "crime_zip_info= crime_zip.merge(crime_housing_df[['Zip_Code_Crime', 'Medianhouseholdincome', 'Medianhomevalue', 'Populationwithdisability']].drop_duplicates('Zip_Code_Crime'), on='Zip_Code_Crime').dropna()\n",
    "crime_zip_info['Populationwithdisability'] = crime_zip_info['Populationwithdisability'].str.rstrip('%').astype(float) / 100\n",
    "crime_zip_info\n",
    "\n",
    "\n",
    "sns.regplot(x='Populationwithdisability', y='Zip_crime_count', data=crime_zip_info, ci=None)\n",
    "display(stats.pearsonr(crime_zip_info.Zip_crime_count, crime_zip_info.Populationwithdisability))"
   ]
  },
  {
   "cell_type": "code",
   "execution_count": null,
   "metadata": {},
   "outputs": [],
   "source": [
    "crime_zip_info['Medianhouseholdincome'] = crime_zip_info['Medianhouseholdincome'].replace({'\\$': '', ',': ''}, regex=True).astype(float)\n",
    "sns.regplot(x='Populationwithdisability', y='Medianhouseholdincome', data=crime_zip_info, ci=None)\n",
    "display(stats.pearsonr(crime_zip_info.Medianhouseholdincome, crime_zip_info.Populationwithdisability))"
   ]
  },
  {
   "cell_type": "markdown",
   "metadata": {},
   "source": [
    "# t-test crimes commited at the zip codes with the highest disability vs crimes commited at the zip codes with the lowest disability"
   ]
  },
  {
   "cell_type": "code",
   "execution_count": null,
   "metadata": {},
   "outputs": [],
   "source": [
    "highest_disability = crime_zip_info[crime_zip_info['Populationwithdisability'] >= 0.14 ]\n",
    "highest_disability\n"
   ]
  },
  {
   "cell_type": "code",
   "execution_count": null,
   "metadata": {},
   "outputs": [],
   "source": [
    "lowest_disability = crime_zip_info[crime_zip_info['Populationwithdisability'] <= 0.03]\n",
    "lowest_disability"
   ]
  },
  {
   "cell_type": "code",
   "execution_count": null,
   "metadata": {},
   "outputs": [],
   "source": [
    "display(stats.ttest_ind(highest_disability.Zip_crime_count, lowest_disability.Zip_crime_count))"
   ]
  },
  {
   "cell_type": "markdown",
   "metadata": {},
   "source": []
  },
  {
   "cell_type": "markdown",
   "metadata": {},
   "source": []
  },
  {
   "cell_type": "markdown",
   "metadata": {},
   "source": []
  }
 ],
 "metadata": {
  "kernelspec": {
   "display_name": "base",
   "language": "python",
   "name": "python3"
  },
  "language_info": {
   "codemirror_mode": {
    "name": "ipython",
    "version": 3
   },
   "file_extension": ".py",
   "mimetype": "text/x-python",
   "name": "python",
   "nbconvert_exporter": "python",
   "pygments_lexer": "ipython3",
   "version": "3.11.9"
  }
 },
 "nbformat": 4,
 "nbformat_minor": 2
}
