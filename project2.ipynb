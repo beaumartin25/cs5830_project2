{
 "cells": [
  {
   "cell_type": "markdown",
   "metadata": {},
   "source": [
    "# project 2\n",
    "median income with autotheft\n",
    "median income with bugrary\n"
   ]
  },
  {
   "cell_type": "code",
   "execution_count": null,
   "metadata": {},
   "outputs": [],
   "source": [
    "import pandas as pd\n",
    "import numpy as np\n",
    "from matplotlib import pyplot as plt\n",
    "import seaborn as sns\n",
    "from scipy import stats\n",
    "\n",
    "crime_housing_df = pd.read_csv('crime-housing-austin-2015.csv')\n",
    "crime_housing_df"
   ]
  },
  {
   "cell_type": "code",
   "execution_count": null,
   "metadata": {},
   "outputs": [],
   "source": [
    "crime_counts = crime_housing_df.groupby(['Highest_NIBRS_UCR_Offense_Description', 'Zip_Code_Crime']).size().reset_index(name='Crime_Count')\n",
    "\n",
    "crime_counts"
   ]
  },
  {
   "cell_type": "code",
   "execution_count": null,
   "metadata": {},
   "outputs": [],
   "source": [
    "\n",
    "\n",
    "crime_counts_with_salary = crime_counts.merge(\n",
    "    crime_housing_df[['Zip_Code_Crime', 'Medianhouseholdincome']].drop_duplicates('Zip_Code_Crime'),\n",
    "    on='Zip_Code_Crime'\n",
    ").dropna()\n",
    "\n",
    "crime_counts_with_salary['Medianhouseholdincome'] = crime_counts_with_salary['Medianhouseholdincome'].replace({'\\$': '', ',': ''}, regex=True).astype(float)\n",
    "\n",
    "crime_list = ['Theft', 'Auto Theft', 'Burglary']\n",
    "crime_counts_with_salary  = crime_counts_with_salary[\n",
    "    crime_counts_with_salary.Highest_NIBRS_UCR_Offense_Description.isin(crime_list)\n",
    "]\n",
    "crime_counts_with_salary\n",
    "\n"
   ]
  },
  {
   "cell_type": "code",
   "execution_count": null,
   "metadata": {},
   "outputs": [],
   "source": [
    "colors = {'Theft':'blue','Auto Theft':'red','Burglary':'black'}\n",
    "\n",
    "fig, ax = plt.subplots(figsize=(10,10))\n",
    "\n",
    "\n",
    "\n",
    "for crime in crime_counts_with_salary.Highest_NIBRS_UCR_Offense_Description.unique():\n",
    "    data = crime_counts_with_salary[crime_counts_with_salary.Highest_NIBRS_UCR_Offense_Description == crime]\n",
    "    ax.scatter(x=data.Crime_Count, y=data.Medianhouseholdincome, c=colors[crime], label=crime)\n",
    "ax.set_xlabel('crime_count')    \n",
    "ax.set_ylabel('median_income')    \n",
    "ax.legend()"
   ]
  },
  {
   "cell_type": "code",
   "execution_count": null,
   "metadata": {},
   "outputs": [],
   "source": [
    "import matplotlib.pyplot as plt\n",
    "\n",
    "# Filter the DataFrame to include only the crime types in the colors dictionary\n",
    "filtered_crimes = crime_counts_with_salary[\n",
    "    crime_counts_with_salary.Highest_NIBRS_UCR_Offense_Description.isin(colors.keys())\n",
    "]\n",
    "\n",
    "fig, ax = plt.subplots(figsize=(10,10))\n",
    "\n",
    "ax = plt.subplot(2,2,1)\n",
    "\n",
    "# Loop through only the crime types in the colors dictionary\n",
    "for crime in filtered_crimes.Highest_NIBRS_UCR_Offense_Description.unique():\n",
    "    data = filtered_crimes[filtered_crimes.Highest_NIBRS_UCR_Offense_Description == crime]\n",
    "    \n",
    "    # Scatter plot using the corresponding color from the dictionary\n",
    "    ax.scatter(x=data.Crime_Count, y=data.Medianhouseholdincome, c=colors[crime], label=crime)\n",
    "\n",
    "# Set axis labels\n",
    "ax.set_xlabel('Crime Count')\n",
    "ax.set_ylabel('Median Household Income')\n",
    "\n",
    "# Show legend\n",
    "ax.legend()\n",
    "\n",
    "plt.show()\n"
   ]
  }
 ],
 "metadata": {
  "kernelspec": {
   "display_name": "base",
   "language": "python",
   "name": "python3"
  },
  "language_info": {
   "codemirror_mode": {
    "name": "ipython",
    "version": 3
   },
   "file_extension": ".py",
   "mimetype": "text/x-python",
   "name": "python",
   "nbconvert_exporter": "python",
   "pygments_lexer": "ipython3",
   "version": "3.11.5"
  }
 },
 "nbformat": 4,
 "nbformat_minor": 2
}
